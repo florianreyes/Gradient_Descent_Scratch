{
 "cells": [
  {
   "cell_type": "markdown",
   "metadata": {},
   "source": [
    "Gradient descent implementation for linear regression models\n",
    "- yhat = wx + b\n",
    "- MSE = sum(y-yhat)**2 / N\n",
    "- Minimize the loss using gradient descent"
   ]
  },
  {
   "cell_type": "markdown",
   "metadata": {},
   "source": [
    "Requierements:\n",
    "- Loss function\n",
    "- Gradient with respect to params\n",
    "- Training procedure\n",
    "- Testing procedure"
   ]
  },
  {
   "cell_type": "code",
   "execution_count": 1,
   "metadata": {},
   "outputs": [],
   "source": [
    "import numpy as np"
   ]
  },
  {
   "cell_type": "code",
   "execution_count": 5,
   "metadata": {},
   "outputs": [],
   "source": [
    "# Initialize Random Parameters\n",
    "w = np.random.randn()\n",
    "b = np.random.randn()\n",
    "\n",
    "\n",
    "# Simulate Observation\n",
    "X = np.random.randn(100, 1)\n",
    "y = 2*X + b"
   ]
  },
  {
   "cell_type": "code",
   "execution_count": 3,
   "metadata": {},
   "outputs": [],
   "source": [
    "def forward(X):\n",
    "    return w*X + b\n",
    "\n",
    "def gradient_descent(X, y, w, b, alpha):\n",
    "    dldw = 0.0\n",
    "    dldb = 0.0\n",
    "    N = X.shape[0]\n",
    "\n",
    "    for xi, yi in zip(X,y):\n",
    "        dldw += -2*xi*(yi-(w*xi+b))\n",
    "        dldb += -2*(yi-(w*xi+b))\n",
    "    \n",
    "    w = w - alpha*(1/N)*dldw\n",
    "    b = b - alpha*(1/N)*dldb\n",
    "\n",
    "    return w,b\n",
    "\n",
    "\n",
    "\n",
    "def fit(epochs, X, y, w, b, alpha):\n",
    "    for epoch in range(epochs):\n",
    "        w,b = gradient_descent(X,y,w,b,alpha)\n",
    "        yhat = w*X + b\n",
    "        loss = np.mean((y-yhat)**2)\n",
    "        print(f\"epoch: {epoch} Results: {loss}\")\n"
   ]
  },
  {
   "cell_type": "code",
   "execution_count": 6,
   "metadata": {},
   "outputs": [
    {
     "ename": "UnboundLocalError",
     "evalue": "local variable 'loss' referenced before assignment",
     "output_type": "error",
     "traceback": [
      "\u001b[0;31m---------------------------------------------------------------------------\u001b[0m",
      "\u001b[0;31mUnboundLocalError\u001b[0m                         Traceback (most recent call last)",
      "\u001b[1;32m/Users/usuario/Desktop/development/projects/datascience/Gradient_Descent_Scratch/gradient_descent.ipynb Cell 6\u001b[0m in \u001b[0;36m<cell line: 1>\u001b[0;34m()\u001b[0m\n\u001b[0;32m----> <a href='vscode-notebook-cell:/Users/usuario/Desktop/development/projects/datascience/Gradient_Descent_Scratch/gradient_descent.ipynb#X11sZmlsZQ%3D%3D?line=0'>1</a>\u001b[0m fit(\u001b[39m50\u001b[39;49m, X, y, w, b, \u001b[39m0.001\u001b[39;49m)\n",
      "\u001b[1;32m/Users/usuario/Desktop/development/projects/datascience/Gradient_Descent_Scratch/gradient_descent.ipynb Cell 6\u001b[0m in \u001b[0;36mfit\u001b[0;34m(epochs, X, y, w, b, alpha)\u001b[0m\n\u001b[1;32m     <a href='vscode-notebook-cell:/Users/usuario/Desktop/development/projects/datascience/Gradient_Descent_Scratch/gradient_descent.ipynb#X11sZmlsZQ%3D%3D?line=21'>22</a>\u001b[0m \u001b[39mfor\u001b[39;00m epoch \u001b[39min\u001b[39;00m \u001b[39mrange\u001b[39m(epochs):\n\u001b[1;32m     <a href='vscode-notebook-cell:/Users/usuario/Desktop/development/projects/datascience/Gradient_Descent_Scratch/gradient_descent.ipynb#X11sZmlsZQ%3D%3D?line=22'>23</a>\u001b[0m     w,b \u001b[39m=\u001b[39m gradient_descent(X,y,w,b,alpha)\n\u001b[0;32m---> <a href='vscode-notebook-cell:/Users/usuario/Desktop/development/projects/datascience/Gradient_Descent_Scratch/gradient_descent.ipynb#X11sZmlsZQ%3D%3D?line=23'>24</a>\u001b[0m     loss \u001b[39m=\u001b[39m loss(X,y)\n\u001b[1;32m     <a href='vscode-notebook-cell:/Users/usuario/Desktop/development/projects/datascience/Gradient_Descent_Scratch/gradient_descent.ipynb#X11sZmlsZQ%3D%3D?line=24'>25</a>\u001b[0m     \u001b[39mprint\u001b[39m(\u001b[39mf\u001b[39m\u001b[39m\"\u001b[39m\u001b[39mepoch: \u001b[39m\u001b[39m{\u001b[39;00mepoch\u001b[39m}\u001b[39;00m\u001b[39m Results: \u001b[39m\u001b[39m{\u001b[39;00mloss\u001b[39m}\u001b[39;00m\u001b[39m\"\u001b[39m)\n",
      "\u001b[0;31mUnboundLocalError\u001b[0m: local variable 'loss' referenced before assignment"
     ]
    }
   ],
   "source": [
    "fit(50, X, y, w, b, 0.001)"
   ]
  }
 ],
 "metadata": {
  "kernelspec": {
   "display_name": "Python 3",
   "language": "python",
   "name": "python3"
  },
  "language_info": {
   "codemirror_mode": {
    "name": "ipython",
    "version": 3
   },
   "file_extension": ".py",
   "mimetype": "text/x-python",
   "name": "python",
   "nbconvert_exporter": "python",
   "pygments_lexer": "ipython3",
   "version": "3.10.2"
  },
  "orig_nbformat": 4
 },
 "nbformat": 4,
 "nbformat_minor": 2
}
